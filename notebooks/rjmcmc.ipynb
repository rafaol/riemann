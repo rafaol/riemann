{
 "cells": [
  {
   "cell_type": "code",
   "execution_count": 1,
   "metadata": {},
   "outputs": [],
   "source": [
    "import numpy as np"
   ]
  },
  {
   "cell_type": "code",
   "execution_count": 2,
   "metadata": {},
   "outputs": [],
   "source": [
    "import riemann"
   ]
  },
  {
   "cell_type": "markdown",
   "metadata": {},
   "source": [
    "# RJMCMC Example with univariate mixture of Gaussians"
   ]
  },
  {
   "cell_type": "code",
   "execution_count": 3,
   "metadata": {},
   "outputs": [],
   "source": [
    "import torch\n",
    "torch.set_default_tensor_type(torch.FloatTensor)\n",
    "from dbo import param_serial, gmm_utils"
   ]
  },
  {
   "cell_type": "code",
   "execution_count": 4,
   "metadata": {},
   "outputs": [],
   "source": [
    "gmm = gmm_utils.GMM(weights=[0.4,0.6], means=[[0.], [0.9]], covariances=[[[0.01]], [[0.01]]])"
   ]
  },
  {
   "cell_type": "code",
   "execution_count": 5,
   "metadata": {},
   "outputs": [],
   "source": [
    "import matplotlib.pyplot as plt\n",
    "\n",
    "query_x = np.linspace(-1,2,100)[:,None]\n",
    "pdf_query_x = gmm.density(gmm_utils.ensure_torch(query_x)).numpy()"
   ]
  },
  {
   "cell_type": "code",
   "execution_count": 6,
   "metadata": {},
   "outputs": [
    {
     "data": {
      "text/plain": [
       "<matplotlib.legend.Legend at 0x7f4f0d203a90>"
      ]
     },
     "execution_count": 6,
     "metadata": {},
     "output_type": "execute_result"
    },
    {
     "data": {
      "image/png": "[encoded data removed]",
      "text/plain": [
       "<Figure size 432x288 with 1 Axes>"
      ]
     },
     "metadata": {
      "needs_background": "light"
     },
     "output_type": "display_data"
    }
   ],
   "source": [
    "n_obs = 100\n",
    "obs = gmm.sample(n_obs)\n",
    "\n",
    "plt.plot(query_x, pdf_query_x, 'k--', label=\"true density\")\n",
    "plt.plot(obs.numpy(), np.zeros(len(obs)), 'k+', ms=10, label=\"observations\")\n",
    "plt.hist(obs.numpy(), density=True, histtype='step', label=\"empirical density\")\n",
    "plt.legend()"
   ]
  },
  {
   "cell_type": "markdown",
   "metadata": {},
   "source": [
    "## Model"
   ]
  },
  {
   "cell_type": "code",
   "execution_count": 7,
   "metadata": {},
   "outputs": [],
   "source": [
    "from riemann.proposals import rj_proposals, rj_generic"
   ]
  },
  {
   "cell_type": "code",
   "execution_count": 8,
   "metadata": {
    "scrolled": true
   },
   "outputs": [
    {
     "data": {
      "text/plain": [
       "<module 'riemann.proposals.rj_proposals' from '/home/rafael/Projects/riemann/riemann/proposals/rj_proposals.py'>"
      ]
     },
     "execution_count": 8,
     "metadata": {},
     "output_type": "execute_result"
    }
   ],
   "source": [
    "import importlib\n",
    "importlib.reload(rj_proposals)"
   ]
  },
  {
   "cell_type": "code",
   "execution_count": 9,
   "metadata": {},
   "outputs": [],
   "source": [
    "true_cov_factors = torch.cholesky(gmm.covariances)\n",
    "true_params = param_serial.GMMParameters.serialise(gmm.weights, gmm.means, true_cov_factors)\n",
    "true_k = len(gmm.weights)\n",
    "true_state = rj_proposals.RJState(true_params.numpy(), true_k)"
   ]
  },
  {
   "cell_type": "code",
   "execution_count": 10,
   "metadata": {},
   "outputs": [],
   "source": [
    "max_n_comp = 3\n",
    "dim = int(len(true_params)/len(gmm.weights))\n",
    "g_means = [np.zeros(dim*n) for n in range(1,max_n_comp+1)]\n",
    "g_covs = [0.1*np.eye(dim*n) for n in range(1,max_n_comp+1)]\n",
    "generic_map = rj_generic.GenericMapping(g_means, g_covs)"
   ]
  },
  {
   "cell_type": "code",
   "execution_count": 11,
   "metadata": {},
   "outputs": [],
   "source": [
    "jump_prop = rj_proposals.JumpProposal(generic_map, rj_generic.GenericMatchingProp(dim))"
   ]
  },
  {
   "cell_type": "code",
   "execution_count": 12,
   "metadata": {},
   "outputs": [],
   "source": [
    "no_jump_ratio = 1.1\n",
    "move_prop = rj_generic.MoveProp(max_n_comp, no_jump_ratio)"
   ]
  },
  {
   "cell_type": "code",
   "execution_count": 13,
   "metadata": {},
   "outputs": [],
   "source": [
    "rj_prop = rj_proposals.RJProposal(move_prop, jump_prop, rj_generic.RandomWalk(0.01))"
   ]
  },
  {
   "cell_type": "code",
   "execution_count": 14,
   "metadata": {},
   "outputs": [
    {
     "name": "stdout",
     "output_type": "stream",
     "text": [
      "[ 0.30663435  0.01157707  0.73797508 -0.09059322 -0.08211036  0.00967441]\n",
      "[ 0.30663435  0.01157707  0.73797508 -0.09059322 -0.08211036  0.00967441\n",
      "  0.06673573 -0.00511496 -0.11807678]\n",
      "[ 0.31040828  0.02841626  0.74931694 -0.07739339 -0.07164254  0.01625203\n",
      "  0.06016221 -0.00465779 -0.1089595 ]\n",
      "[0.31040828 0.02841626 0.74931694]\n",
      "[ 0.31040828  0.02841626  0.74931694  0.05342671  0.14357039 -0.08295556\n",
      " -0.01387458 -0.04518844  0.01462145]\n",
      "[ 0.31034929  0.02813055  0.75527288  0.06489942  0.14554277 -0.05925171\n",
      " -0.02007473 -0.03077906  0.02881939]\n",
      "[0.31034929 0.02813055 0.75527288]\n",
      "[ 3.10349288e-01  2.81305471e-02  7.55272878e-01  1.10654942e-01\n",
      " -6.50868000e-02  1.00319165e-01 -9.00438143e-02 -3.42354841e-02\n",
      "  7.49802616e-04]\n",
      "[0.31034929 0.02813055 0.75527288]\n",
      "[ 0.31034929  0.02813055  0.75527288 -0.10007257 -0.19836539  0.01533707]\n",
      "[ 0.31034929  0.02813055  0.75527288 -0.10007257 -0.19836539  0.01533707\n",
      " -0.00770307 -0.09289956  0.24038508]\n",
      "[ 0.31034929  0.02813055  0.75527288 -0.10007257 -0.19836539  0.01533707]\n",
      "[0.31034929 0.02813055 0.75527288]\n",
      "[0.30952645 0.0334635  0.76486966]\n",
      "[0.29001543 0.02997027 0.76930287]\n",
      "[0.29001543 0.02997027 0.76930287 0.03471697 0.06269846 0.1102159 ]\n",
      "[0.29001543 0.02997027 0.76930287]\n",
      "[ 0.29001543  0.02997027  0.76930287 -0.09600963 -0.00892859 -0.10436389]\n",
      "[ 0.30197696  0.00584741  0.76419851 -0.08873209 -0.00443704 -0.09096745]\n",
      "[ 0.30197696  0.00584741  0.76419851 -0.08873209 -0.00443704 -0.09096745\n",
      "  0.0129436   0.16112359 -0.05317585]\n",
      "[0.30197696 0.00584741 0.76419851]\n",
      "[ 0.30197696  0.00584741  0.76419851 -0.06103459  0.09102279 -0.03887354]\n",
      "[ 0.30197696  0.00584741  0.76419851 -0.06103459  0.09102279 -0.03887354\n",
      " -0.11235693 -0.03361782 -0.06257191]\n",
      "[ 0.29879325  0.00287747  0.77154839 -0.05129018  0.09452676 -0.04658165\n",
      " -0.10903103 -0.02908305 -0.08750792]\n",
      "[ 0.29879325  0.00287747  0.77154839 -0.05129018  0.09452676 -0.04658165]\n",
      "[ 0.29725546 -0.00087928  0.77585879 -0.0562349   0.10473876 -0.05098081]\n",
      "[ 0.29725546 -0.00087928  0.77585879 -0.0562349   0.10473876 -0.05098081\n",
      " -0.13692145  0.0589508   0.04572939]\n",
      "[ 0.29725546 -0.00087928  0.77585879 -0.0562349   0.10473876 -0.05098081]\n",
      "[ 0.28514523 -0.00771272  0.77294882 -0.05188901  0.12601725 -0.05006749]\n",
      "[ 0.28514523 -0.00771272  0.77294882 -0.05188901  0.12601725 -0.05006749\n",
      " -0.19229051  0.00553613  0.1391275 ]\n",
      "[ 0.28667955 -0.00200574  0.78542921 -0.03878096  0.11982583 -0.05486701\n",
      " -0.18581507 -0.02787125  0.12195285]\n",
      "[ 0.28667955 -0.00200574  0.78542921 -0.03878096  0.11982583 -0.05486701]\n",
      "[ 0.29109492 -0.00542409  0.79666821 -0.03925482  0.12474285 -0.0610286 ]\n",
      "[ 0.29109492 -0.00542409  0.79666821 -0.03925482  0.12474285 -0.0610286\n",
      " -0.09362564  0.11569879 -0.12551183]\n",
      "[ 2.85557934e-01  2.55681372e-04  7.90504253e-01 -4.20427285e-02\n",
      "  1.09106166e-01 -6.33236139e-02 -9.51614517e-02  1.10572338e-01\n",
      " -1.10608190e-01]\n",
      "[ 0.27942102 -0.00361482  0.78820879 -0.04234809  0.11581951 -0.06846668\n",
      " -0.09929258  0.11997276 -0.10436814]\n",
      "[ 0.28260868 -0.02371689  0.79217098 -0.0370296   0.12697562 -0.06663488\n",
      " -0.07732967  0.11021925 -0.09447201]\n",
      "[ 0.28260868 -0.02371689  0.79217098]\n",
      "[ 0.28260868 -0.02371689  0.79217098 -0.11958235 -0.03243859 -0.09261858\n",
      " -0.07097466  0.13021585  0.06400618]\n",
      "[ 0.28260868 -0.02371689  0.79217098]\n",
      "[ 0.28260868 -0.02371689  0.79217098 -0.03184364 -0.18075988  0.04646999\n",
      "  0.03971097  0.19531426 -0.10029317]\n",
      "[ 0.29977651 -0.01920095  0.78703815 -0.04924835 -0.18575552  0.05675385\n",
      "  0.04299692  0.20016274 -0.09152623]\n",
      "[ 0.29977651 -0.01920095  0.78703815]\n",
      "[ 0.29977651 -0.01920095  0.78703815  0.33472051 -0.04381882 -0.18934481\n",
      " -0.06298246 -0.30400141  0.04227583]\n",
      "[ 0.29977651 -0.01920095  0.78703815  0.33472051 -0.04381882 -0.18934481]\n",
      "[ 0.28423028 -0.01855193  0.77967879  0.33827333 -0.05896875 -0.17815441]\n",
      "[ 0.28423028 -0.01855193  0.77967879]\n",
      "[ 0.28423028 -0.01855193  0.77967879 -0.18992051 -0.05365495  0.10462023\n",
      " -0.01284285 -0.0602748  -0.14924008]\n",
      "[ 0.28320105 -0.0116722   0.77128178 -0.20276658 -0.05063779  0.09730234\n",
      " -0.01613689 -0.05165935 -0.14839938]\n",
      "[ 0.28320105 -0.0116722   0.77128178]\n",
      "[ 0.28320105 -0.0116722   0.77128178 -0.035261   -0.04201307  0.060196\n",
      "  0.2275482   0.04265034  0.03760324]\n",
      "[ 0.28320105 -0.0116722   0.77128178]\n",
      "[ 0.28320105 -0.0116722   0.77128178 -0.04779719 -0.13076032  0.0143785 ]\n",
      "[ 0.28320105 -0.0116722   0.77128178 -0.04779719 -0.13076032  0.0143785\n",
      " -0.08623529 -0.10861968  0.05987817]\n",
      "[ 0.28320105 -0.0116722   0.77128178 -0.04779719 -0.13076032  0.0143785 ]\n",
      "[ 0.28320105 -0.0116722   0.77128178 -0.04779719 -0.13076032  0.0143785\n",
      " -0.01017744 -0.02516244 -0.07645584]\n",
      "[ 0.28320105 -0.0116722   0.77128178]\n",
      "[ 0.27741556 -0.01718951  0.76660141]\n",
      "[ 0.27741556 -0.01718951  0.76660141 -0.01668832 -0.04979128 -0.12489966]\n",
      "[ 0.27741556 -0.01718951  0.76660141]\n",
      "[ 0.26870338 -0.0192778   0.77176148]\n",
      "[ 0.26870338 -0.0192778   0.77176148  0.18281188  0.20709418 -0.06698296\n",
      "  0.1004421  -0.02836945 -0.12273075]\n",
      "[ 0.27522493 -0.00846328  0.77668376  0.18503093  0.21457528 -0.05740368\n",
      "  0.09339851 -0.0256326  -0.12051343]\n",
      "[ 0.27522493 -0.00846328  0.77668376  0.18503093  0.21457528 -0.05740368]\n",
      "[ 0.27522493 -0.00846328  0.77668376]\n",
      "[ 0.27522493 -0.00846328  0.77668376 -0.05915251  0.10287156  0.11442088\n",
      "  0.02122973 -0.0583287   0.02226234]\n",
      "[ 0.26527805 -0.0083781   0.77188053 -0.06680672  0.10259374  0.10238644\n",
      "  0.01927296 -0.07162042  0.00388678]\n",
      "[ 0.26527805 -0.0083781   0.77188053 -0.06680672  0.10259374  0.10238644]\n",
      "[ 0.26527805 -0.0083781   0.77188053 -0.06680672  0.10259374  0.10238644\n",
      "  0.14441341 -0.03532271 -0.04521629]\n",
      "[ 0.26527805 -0.0083781   0.77188053]\n",
      "[ 0.26527805 -0.0083781   0.77188053 -0.02801862  0.05099388 -0.00498383\n",
      "  0.07041735 -0.00573557 -0.18768535]\n",
      "[ 0.26527805 -0.0083781   0.77188053]\n",
      "[ 0.26527805 -0.0083781   0.77188053 -0.00166876 -0.05483505  0.01666711]\n",
      "[ 0.26527805 -0.0083781   0.77188053 -0.00166876 -0.05483505  0.01666711\n",
      "  0.30421229  0.10176154 -0.11753677]\n",
      "[ 0.26527805 -0.0083781   0.77188053]\n",
      "[ 0.2798035  -0.01598107  0.77682387]\n",
      "[ 0.28628186 -0.02164026  0.77136895]\n",
      "[ 0.27899193 -0.02155506  0.76664863]\n",
      "[ 0.26695332 -0.03057808  0.76531274]\n",
      "[ 0.25655361 -0.02873113  0.77916621]\n",
      "[ 0.2496877  -0.01982056  0.77962508]\n",
      "[ 0.2496877  -0.01982056  0.77962508  0.09841985 -0.07883731 -0.08137958]\n",
      "[ 2.60809492e-01  6.42577311e-04  7.64980183e-01  9.66036788e-02\n",
      " -7.94904484e-02 -9.31117929e-02]\n",
      "[ 2.60809492e-01  6.42577311e-04  7.64980183e-01  9.66036788e-02\n",
      " -7.94904484e-02 -9.31117929e-02 -2.23909190e-02  6.07730184e-02\n",
      " -2.62710576e-02]\n",
      "[ 2.60809492e-01  6.42577311e-04  7.64980183e-01  9.66036788e-02\n",
      " -7.94904484e-02 -9.31117929e-02]\n",
      "[ 2.60809492e-01  6.42577311e-04  7.64980183e-01  9.66036788e-02\n",
      " -7.94904484e-02 -9.31117929e-02  1.30796021e-03  5.90932705e-02\n",
      "  1.38714341e-01]\n",
      "[2.60809492e-01 6.42577311e-04 7.64980183e-01]\n",
      "[0.26885376 0.00344475 0.78149483]\n",
      "[0.25455902 0.00507985 0.77292039]\n",
      "[0.25323799 0.01899996 0.78027376]\n",
      "[0.25323799 0.01899996 0.78027376 0.02810556 0.05934052 0.04423183]\n",
      "[0.25323799 0.01899996 0.78027376]\n",
      "[0.25323799 0.01899996 0.78027376 0.08863472 0.01502307 0.03293141]\n",
      "[0.25323799 0.01899996 0.78027376]\n",
      "[ 0.25323799  0.01899996  0.78027376 -0.11537204  0.11220366  0.0679148 ]\n",
      "[ 0.24852114  0.01214588  0.77464247 -0.11144914  0.11025524  0.06636941]\n",
      "[0.24852114 0.01214588 0.77464247]\n",
      "[ 0.24852114  0.01214588  0.77464247 -0.05656825 -0.17512646 -0.13773456]\n",
      "[ 0.25238899  0.02325874  0.78075399 -0.06183133 -0.18533657 -0.12163203]\n",
      "[0.25238899 0.02325874 0.78075399]\n"
     ]
    }
   ],
   "source": [
    "n_samples = 100\n",
    "sample = rj_proposals.RJState(np.random.rand(3), 1)\n",
    "for i in range(n_samples):\n",
    "    sample, _ = rj_prop.propose(sample)\n",
    "    print(sample.param)"
   ]
  },
  {
   "cell_type": "code",
   "execution_count": 15,
   "metadata": {},
   "outputs": [],
   "source": [
    "class RJGMModel(riemann.Model):\n",
    "    def __init__(self, data, k_prior, precision_prior):\n",
    "        self.data = data\n",
    "        d = data.shape[-1]\n",
    "        self.k_prior = k_prior\n",
    "        self.sample_mean = data.mean(axis=0)\n",
    "        self.sample_covariance = torch.tensor(np.cov(data.T), dtype=torch.get_default_dtype()).view(d,d)\n",
    "        self.means_prior = torch.distributions.MultivariateNormal(self.sample_mean, \n",
    "                                                             covariance_matrix=self.sample_covariance)\n",
    "        self.precision_prior = precision_prior\n",
    "    \n",
    "    @staticmethod\n",
    "    def transform_param(param, n_comp):\n",
    "        weights, means, covariances = param_serial.GMMParameters.deserialise(\n",
    "            torch.tensor(param, dtype=torch.get_default_dtype()), n_comp)\n",
    "        weights = weights/weights.sum()\n",
    "        covariances = torch.matmul(covariances, covariances.transpose(-2, -1))\n",
    "        return weights, means, covariances\n",
    "        \n",
    "    def log_likelihood(self, state):\n",
    "        candidate_gmm = gmm_utils.GMM(*self.transform_param(state.param, state.idx))\n",
    "        return candidate_gmm.density(self.data).log().sum().item()\n",
    "    \n",
    "    def log_prior(self, state):\n",
    "        k = state.idx # number of mixture components\n",
    "        candidate = gmm_utils.GMM(*self.transform_param(state.param, state.idx))\n",
    "        log_p_k = self.k_prior.log_prob(gmm_utils.ensure_torch(k-1)).item()\n",
    "        log_p_w = torch.distributions.Dirichlet(torch.ones([k])).log_prob(candidate.weights.view(-1)).item()\n",
    "        log_p_means = self.means_prior.log_prob(candidate.means).sum().item()\n",
    "        log_p_precision = self.precision_prior.log_prob(1./candidate.covariances).sum().item() # Assuming 1-D data!\n",
    "#         print(log_p_k, log_p_w, log_p_means, log_p_precision)\n",
    "        return log_p_k + log_p_w + log_p_means + log_p_precision"
   ]
  },
  {
   "cell_type": "code",
   "execution_count": 16,
   "metadata": {},
   "outputs": [],
   "source": [
    "model = RJGMModel(obs, k_prior = torch.distributions.Geometric(torch.tensor(.4)),\n",
    "                 precision_prior=torch.distributions.Gamma(concentration=100., rate=1.))"
   ]
  },
  {
   "cell_type": "code",
   "execution_count": 17,
   "metadata": {},
   "outputs": [],
   "source": [
    "initial_n_comp = 1\n",
    "initial_state = rj_proposals.RJState(np.random.rand(initial_n_comp*dim), initial_n_comp)\n",
    "rj_sampler = riemann.Sampler(model, rj_prop, initial_state)\n",
    "rj_sampler.run(1000)"
   ]
  },
  {
   "cell_type": "code",
   "execution_count": 18,
   "metadata": {},
   "outputs": [
    {
     "name": "stderr",
     "output_type": "stream",
     "text": [
      "100%|██████████| 10000/10000 [00:15<00:00, 631.53it/s]\n"
     ]
    }
   ],
   "source": [
    "from tqdm import trange\n",
    "\n",
    "n_samples = 10000\n",
    "samples = [None]*n_samples\n",
    "for i in trange(n_samples):\n",
    "    state, logp = rj_sampler.sample()\n",
    "    samples[i] = state"
   ]
  },
  {
   "cell_type": "code",
   "execution_count": 19,
   "metadata": {},
   "outputs": [
    {
     "data": {
      "text/plain": [
       "<matplotlib.legend.Legend at 0x7f4f0d19d2d0>"
      ]
     },
     "execution_count": 19,
     "metadata": {},
     "output_type": "execute_result"
    },
    {
     "data": {
      "image/png": "[encoded data removed]",
      "text/plain": [
       "<Figure size 432x288 with 1 Axes>"
      ]
     },
     "metadata": {
      "needs_background": "light"
     },
     "output_type": "display_data"
    }
   ],
   "source": [
    "pdf_query_x = gmm.density(gmm_utils.ensure_torch(query_x)).numpy()\n",
    "candidate_gmm = gmm_utils.GMM(*model.transform_param(state.param, state.idx))\n",
    "candidate_query_x = candidate_gmm.density(gmm_utils.ensure_torch(query_x)).numpy()\n",
    "\n",
    "plt.plot(query_x, pdf_query_x, 'k--', label=\"true density\")\n",
    "plt.plot(query_x, candidate_query_x,'b-', label=\"candidate model\")\n",
    "plt.plot(obs.numpy(), np.zeros(len(obs)), 'k+', ms=10, label=\"observations\")\n",
    "plt.hist(obs.numpy(), density=True, histtype='step', label=\"empirical density\")\n",
    "plt.legend()"
   ]
  },
  {
   "cell_type": "code",
   "execution_count": 20,
   "metadata": {},
   "outputs": [
    {
     "data": {
      "text/plain": [
       "<StemContainer object of 3 artists>"
      ]
     },
     "execution_count": 20,
     "metadata": {},
     "output_type": "execute_result"
    },
    {
     "data": {
      "image/png": "[encoded data removed]",
      "text/plain": [
       "<Figure size 432x288 with 1 Axes>"
      ]
     },
     "metadata": {
      "needs_background": "light"
     },
     "output_type": "display_data"
    }
   ],
   "source": [
    "k_samples = [s.idx for s in samples]\n",
    "counts,_ = np.histogram(k_samples, range=[1,max_n_comp], bins=max_n_comp)\n",
    "\n",
    "plt.stem(np.arange(1,max_n_comp+1), counts/counts.sum(), use_line_collection=True)"
   ]
  },
  {
   "cell_type": "code",
   "execution_count": null,
   "metadata": {},
   "outputs": [],
   "source": []
  }
 ],
 "metadata": {
  "kernelspec": {
   "display_name": "Python 3",
   "language": "python",
   "name": "python3"
  },
  "language_info": {
   "codemirror_mode": {
    "name": "ipython",
    "version": 3
   },
   "file_extension": ".py",
   "mimetype": "text/x-python",
   "name": "python",
   "nbconvert_exporter": "python",
   "pygments_lexer": "ipython3",
   "version": "3.7.4"
  }
 },
 "nbformat": 4,
 "nbformat_minor": 2
}
