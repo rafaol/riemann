{
 "cells": [
  {
   "cell_type": "code",
   "execution_count": 1,
   "metadata": {},
   "outputs": [],
   "source": [
    "import numpy as np"
   ]
  },
  {
   "cell_type": "code",
   "execution_count": 2,
   "metadata": {},
   "outputs": [],
   "source": [
    "import riemann"
   ]
  },
  {
   "cell_type": "markdown",
   "metadata": {},
   "source": [
    "# RJMCMC Example with univariate mixture of Gaussians"
   ]
  },
  {
   "cell_type": "code",
   "execution_count": 3,
   "metadata": {},
   "outputs": [],
   "source": [
    "import torch\n",
    "torch.set_default_tensor_type(torch.FloatTensor)\n",
    "from dbo import param_serial, gmm_utils"
   ]
  },
  {
   "cell_type": "code",
   "execution_count": 4,
   "metadata": {},
   "outputs": [],
   "source": [
    "gmm = gmm_utils.GMM(weights=[0.4,0.6], means=[[0.], [0.9]], covariances=[[[0.01]], [[0.01]]])"
   ]
  },
  {
   "cell_type": "code",
   "execution_count": 5,
   "metadata": {},
   "outputs": [],
   "source": [
    "import matplotlib.pyplot as plt\n",
    "\n",
    "query_x = np.linspace(-1,2,100)[:,None]\n",
    "pdf_query_x = gmm.density(gmm_utils.ensure_torch(query_x)).numpy()"
   ]
  },
  {
   "cell_type": "code",
   "execution_count": 6,
   "metadata": {},
   "outputs": [
    {
     "data": {
      "text/plain": [
       "<matplotlib.legend.Legend at 0x7f95d8278b50>"
      ]
     },
     "execution_count": 6,
     "metadata": {},
     "output_type": "execute_result"
    },
    {
     "data": {
      "image/png": "[encoded data removed]",
      "text/plain": [
       "<Figure size 432x288 with 1 Axes>"
      ]
     },
     "metadata": {
      "needs_background": "light"
     },
     "output_type": "display_data"
    }
   ],
   "source": [
    "n_obs = 100\n",
    "obs = gmm.sample(n_obs)\n",
    "\n",
    "plt.plot(query_x, pdf_query_x, 'k--', label=\"true density\")\n",
    "plt.plot(obs.numpy(), np.zeros(len(obs)), 'k+', ms=10, label=\"observations\")\n",
    "plt.hist(obs.numpy(), density=True, histtype='step', label=\"empirical density\")\n",
    "plt.legend()"
   ]
  },
  {
   "cell_type": "markdown",
   "metadata": {},
   "source": [
    "## Model"
   ]
  },
  {
   "cell_type": "code",
   "execution_count": 7,
   "metadata": {},
   "outputs": [],
   "source": [
    "from riemann.proposals import rj_proposals, rj_generic"
   ]
  },
  {
   "cell_type": "code",
   "execution_count": 8,
   "metadata": {
    "scrolled": true
   },
   "outputs": [
    {
     "data": {
      "text/plain": [
       "<module 'riemann.proposals.rj_proposals' from '/home/rafael/Projects/riemann/riemann/proposals/rj_proposals.py'>"
      ]
     },
     "execution_count": 8,
     "metadata": {},
     "output_type": "execute_result"
    }
   ],
   "source": [
    "import importlib\n",
    "importlib.reload(rj_proposals)"
   ]
  },
  {
   "cell_type": "code",
   "execution_count": 9,
   "metadata": {},
   "outputs": [],
   "source": [
    "true_cov_factors = torch.cholesky(gmm.covariances)\n",
    "true_params = param_serial.GMMParameters.serialise(gmm.weights, gmm.means, true_cov_factors)\n",
    "true_k = len(gmm.weights)\n",
    "true_state = rj_proposals.RJState(true_params.numpy(), true_k)"
   ]
  },
  {
   "cell_type": "code",
   "execution_count": 10,
   "metadata": {},
   "outputs": [],
   "source": [
    "max_n_comp = 3\n",
    "dim = int(len(true_params)/len(gmm.weights))\n",
    "g_means = [np.zeros(dim*n) for n in range(1,max_n_comp+1)]\n",
    "g_covs = [0.1*np.eye(dim*n) for n in range(1,max_n_comp+1)]\n",
    "generic_map = rj_generic.GenericMapping(g_means, g_covs)"
   ]
  },
  {
   "cell_type": "code",
   "execution_count": 11,
   "metadata": {},
   "outputs": [],
   "source": [
    "jump_prop = rj_proposals.JumpProposal(generic_map, rj_generic.GenericMatchingProp(dim))"
   ]
  },
  {
   "cell_type": "code",
   "execution_count": 12,
   "metadata": {},
   "outputs": [],
   "source": [
    "no_jump_ratio = 1.1\n",
    "move_prop = rj_generic.MoveProp(max_n_comp, no_jump_ratio)"
   ]
  },
  {
   "cell_type": "code",
   "execution_count": 13,
   "metadata": {},
   "outputs": [],
   "source": [
    "rj_prop = rj_proposals.RJProposal(move_prop, jump_prop, rj_generic.RandomWalk(0.01))"
   ]
  },
  {
   "cell_type": "code",
   "execution_count": 14,
   "metadata": {},
   "outputs": [
    {
     "name": "stdout",
     "output_type": "stream",
     "text": [
      "[ 0.03835336  0.35412971  0.78355723 -0.08032624 -0.07239865 -0.02007942\n",
      " -0.12933112  0.08649781  0.09966509]\n",
      "[ 0.04080582  0.35241002  0.76430726 -0.1087552  -0.07290926 -0.00917997\n",
      " -0.1351441   0.08045297  0.10740908]\n",
      "[0.04080582 0.35241002 0.76430726]\n",
      "[0.03032296 0.36104697 0.765881  ]\n",
      "[ 0.03032296  0.36104697  0.765881   -0.09770043 -0.05441787 -0.04967358]\n",
      "[0.03032296 0.36104697 0.765881  ]\n",
      "[ 0.03032296  0.36104697  0.765881   -0.18050007  0.10703827 -0.09619182]\n",
      "[0.03032296 0.36104697 0.765881  ]\n",
      "[ 0.03032296  0.36104697  0.765881    0.04168022  0.01789688 -0.03659846]\n",
      "[ 0.03032296  0.36104697  0.765881    0.04168022  0.01789688 -0.03659846\n",
      " -0.0611727  -0.01610494  0.17759711]\n",
      "[ 0.02045863  0.36507756  0.7773554   0.03151861  0.01397276 -0.05121607\n",
      " -0.05943526 -0.03031461  0.16242076]\n",
      "[0.02045863 0.36507756 0.7773554 ]\n",
      "[0.03237422 0.38193074 0.78901562]\n",
      "[0.04812025 0.39226955 0.79607428]\n",
      "[ 0.04812025  0.39226955  0.79607428  0.15369064 -0.01658835 -0.05812448]\n",
      "[ 0.04812025  0.39226955  0.79607428  0.15369064 -0.01658835 -0.05812448\n",
      " -0.10656871 -0.12306066 -0.13098939]\n",
      "[0.04812025 0.39226955 0.79607428]\n",
      "[ 0.04812025  0.39226955  0.79607428 -0.0439249   0.0330125   0.16531479\n",
      "  0.05628584 -0.11247389  0.14015996]\n",
      "[0.04812025 0.39226955 0.79607428]\n",
      "[0.0555704  0.38288876 0.78468967]\n",
      "[ 0.0555704   0.38288876  0.78468967 -0.15004451 -0.00493942  0.06798068]\n",
      "[ 0.0555704   0.38288876  0.78468967 -0.15004451 -0.00493942  0.06798068\n",
      " -0.01474445  0.01797349 -0.08245991]\n",
      "[0.0555704  0.38288876 0.78468967]\n",
      "[0.04757179 0.39428455 0.78541286]\n",
      "[0.05399294 0.39374813 0.80181731]\n",
      "[ 0.05399294  0.39374813  0.80181731 -0.04735663  0.15075103 -0.09609701]\n",
      "[ 5.39929359e-02  3.93748134e-01  8.01817311e-01 -4.73566307e-02\n",
      "  1.50751033e-01 -9.60970082e-02 -1.17047536e-02  4.20139412e-02\n",
      "  6.94473429e-04]\n",
      "[ 0.05399294  0.39374813  0.80181731 -0.04735663  0.15075103 -0.09609701]\n",
      "[ 0.05399294  0.39374813  0.80181731 -0.04735663  0.15075103 -0.09609701\n",
      " -0.01634234  0.08107566  0.07617591]\n",
      "[ 0.05399294  0.39374813  0.80181731 -0.04735663  0.15075103 -0.09609701]\n",
      "[ 0.05399294  0.39374813  0.80181731 -0.04735663  0.15075103 -0.09609701\n",
      "  0.1680216   0.02069018  0.10281348]\n",
      "[0.05399294 0.39374813 0.80181731]\n",
      "[ 0.05399294  0.39374813  0.80181731 -0.06963867  0.05357885  0.00140013\n",
      "  0.06547421  0.10992037 -0.0473275 ]\n",
      "[ 0.06318378  0.39410733  0.78907631 -0.07289055  0.05242503  0.0048145\n",
      "  0.05810798  0.09062255 -0.05512002]\n",
      "[ 0.07233708  0.38806477  0.7871816  -0.06916419  0.03481559  0.00491359\n",
      "  0.07257794  0.0926021  -0.04475624]\n",
      "[0.07233708 0.38806477 0.7871816 ]\n",
      "[ 0.07233708  0.38806477  0.7871816   0.00271074  0.00724159 -0.03544286\n",
      "  0.06321805 -0.15628762  0.09071632]\n",
      "[ 0.07233708  0.38806477  0.7871816   0.00271074  0.00724159 -0.03544286]\n",
      "[ 0.07484563  0.38697703  0.78421058 -0.00469883  0.01095684 -0.04550209]\n",
      "[ 0.06069388  0.38390701  0.77724655  0.00708709  0.01952735 -0.0416588 ]\n",
      "[ 0.06717509  0.40533313  0.78377836  0.00522674  0.00729666 -0.05430513]\n",
      "[0.06717509 0.40533313 0.78377836]\n",
      "[0.08713268 0.40783882 0.78724529]\n",
      "[0.08208008 0.39145826 0.76242432]\n",
      "[0.08598326 0.38886759 0.76348119]\n",
      "[ 0.08598326  0.38886759  0.76348119  0.11796637 -0.06247446  0.01561894\n",
      "  0.11562481 -0.07038342  0.06069786]\n",
      "[ 0.08598326  0.38886759  0.76348119  0.11796637 -0.06247446  0.01561894]\n",
      "[ 0.08598326  0.38886759  0.76348119  0.11796637 -0.06247446  0.01561894\n",
      "  0.03334508 -0.11660408 -0.06762329]\n",
      "[ 0.07929879  0.38164028  0.76420801  0.13900073 -0.06299494  0.0198448\n",
      "  0.03564494 -0.12424999 -0.06514849]\n",
      "[0.07929879 0.38164028 0.76420801]\n",
      "[ 0.07929879  0.38164028  0.76420801 -0.07090922  0.14199414 -0.0917063 ]\n",
      "[ 0.07929879  0.38164028  0.76420801 -0.07090922  0.14199414 -0.0917063\n",
      " -0.01065465  0.0502963  -0.06886174]\n",
      "[0.07929879 0.38164028 0.76420801]\n",
      "[ 0.07929879  0.38164028  0.76420801  0.16644774 -0.0863907   0.13863941\n",
      " -0.08459602 -0.07313082  0.09695223]\n",
      "[ 0.07929879  0.38164028  0.76420801  0.16644774 -0.0863907   0.13863941]\n",
      "[ 0.07929879  0.38164028  0.76420801  0.16644774 -0.0863907   0.13863941\n",
      " -0.06856738 -0.02577129  0.04597111]\n",
      "[ 0.08827964  0.38576122  0.76334757  0.16946237 -0.07755045  0.12810216\n",
      " -0.10124566 -0.02705203  0.06185837]\n",
      "[0.08827964 0.38576122 0.76334757]\n",
      "[ 0.08827964  0.38576122  0.76334757  0.05544999  0.01555067 -0.12430738\n",
      "  0.06742728  0.02342138  0.00603956]\n",
      "[ 0.08827964  0.38576122  0.76334757  0.05544999  0.01555067 -0.12430738]\n",
      "[0.08827964 0.38576122 0.76334757]\n",
      "[ 0.08827964  0.38576122  0.76334757 -0.02609733 -0.05499576 -0.06508255]\n",
      "[ 0.08827964  0.38576122  0.76334757 -0.02609733 -0.05499576 -0.06508255\n",
      " -0.18842808 -0.10135208 -0.00077491]\n",
      "[0.08827964 0.38576122 0.76334757]\n",
      "[0.08929987 0.38913918 0.7713293 ]\n",
      "[0.08365302 0.37712739 0.76879106]\n",
      "[ 0.08365302  0.37712739  0.76879106  0.09829756  0.17605561 -0.0251387 ]\n",
      "[0.08365302 0.37712739 0.76879106]\n",
      "[0.08363733 0.38665991 0.78126514]\n",
      "[0.06944169 0.40211754 0.78311762]\n",
      "[ 0.06944169  0.40211754  0.78311762 -0.1728354   0.07843962  0.09722335\n",
      "  0.07548466  0.06344642 -0.09980754]\n",
      "[ 0.07540147  0.41708824  0.76353584 -0.18181172  0.09086191  0.10267681\n",
      "  0.06371957  0.05557669 -0.10327947]\n",
      "[0.07540147 0.41708824 0.76353584]\n",
      "[0.07170479 0.40255636 0.75444035]\n",
      "[ 0.07170479  0.40255636  0.75444035 -0.0608332  -0.00319733  0.04116818]\n",
      "[0.07170479 0.40255636 0.75444035]\n",
      "[0.06168645 0.41800286 0.75794548]\n",
      "[ 0.06168645  0.41800286  0.75794548  0.03049923 -0.10581919  0.0805901 ]\n",
      "[0.06168645 0.41800286 0.75794548]\n",
      "[ 6.16864548e-02  4.18002857e-01  7.57945484e-01 -2.53720566e-02\n",
      "  5.19635424e-04 -8.05024109e-02]\n",
      "[ 6.16864548e-02  4.18002857e-01  7.57945484e-01 -2.53720566e-02\n",
      "  5.19635424e-04 -8.05024109e-02 -1.42092392e-01 -1.74881866e-01\n",
      " -9.14894919e-02]\n",
      "[ 0.06556396  0.42428782  0.75603465 -0.02169911 -0.00931535 -0.07571094\n",
      " -0.14055041 -0.1704474  -0.10007786]\n",
      "[0.06556396 0.42428782 0.75603465]\n",
      "[ 0.06556396  0.42428782  0.75603465 -0.01739624  0.00122022  0.12016279\n",
      " -0.04285169 -0.06031595 -0.05236341]\n",
      "[0.06556396 0.42428782 0.75603465]\n",
      "[ 0.06556396  0.42428782  0.75603465 -0.11663098  0.03880514 -0.12090896\n",
      " -0.10270729  0.03173922  0.05550751]\n",
      "[ 0.06556396  0.42428782  0.75603465 -0.11663098  0.03880514 -0.12090896]\n",
      "[ 0.06556396  0.42428782  0.75603465 -0.11663098  0.03880514 -0.12090896\n",
      "  0.17752219 -0.02348239 -0.04969575]\n",
      "[ 0.06556396  0.42428782  0.75603465 -0.11663098  0.03880514 -0.12090896]\n",
      "[0.06556396 0.42428782 0.75603465]\n",
      "[0.05910534 0.42109988 0.75070278]\n",
      "[ 0.05910534  0.42109988  0.75070278  0.03862813 -0.0919425  -0.14488306\n",
      "  0.08016477  0.09760047 -0.03508624]\n",
      "[ 0.05910534  0.42109988  0.75070278  0.03862813 -0.0919425  -0.14488306]\n",
      "[ 0.06159928  0.42003607  0.76290507  0.03620807 -0.07956741 -0.15832813]\n",
      "[ 0.06959642  0.41806005  0.76341063  0.02475274 -0.06908394 -0.15406602]\n",
      "[ 0.06959642  0.41806005  0.76341063  0.02475274 -0.06908394 -0.15406602\n",
      "  0.11158983  0.0340312  -0.06830357]\n",
      "[ 0.07141413  0.41935531  0.77197371  0.02968167 -0.06852597 -0.16437862\n",
      "  0.11324206  0.04991784 -0.06398191]\n",
      "[ 0.07141413  0.41935531  0.77197371  0.02968167 -0.06852597 -0.16437862]\n",
      "[0.07141413 0.41935531 0.77197371]\n",
      "[0.05596836 0.40404752 0.77552407]\n"
     ]
    }
   ],
   "source": [
    "n_samples = 100\n",
    "sample = rj_proposals.RJState(np.random.rand(3), 1)\n",
    "for i in range(n_samples):\n",
    "    sample, _ = rj_prop.propose(sample)\n",
    "    print(sample.param)"
   ]
  },
  {
   "cell_type": "code",
   "execution_count": 15,
   "metadata": {},
   "outputs": [],
   "source": [
    "class RJGMModel(riemann.Model):\n",
    "    def __init__(self, data, k_prior, precision_prior):\n",
    "        self.data = data\n",
    "        d = data.shape[-1]\n",
    "        self.k_prior = k_prior\n",
    "        self.sample_mean = data.mean(axis=0)\n",
    "        self.sample_covariance = torch.tensor(np.cov(data.T), dtype=torch.get_default_dtype()).view(d,d)\n",
    "        self.means_prior = torch.distributions.MultivariateNormal(self.sample_mean, \n",
    "                                                             covariance_matrix=self.sample_covariance)\n",
    "        self.precision_prior = precision_prior\n",
    "    \n",
    "    @staticmethod\n",
    "    def transform_param(param, n_comp):\n",
    "        weights, means, covariances = param_serial.GMMParameters.deserialise(\n",
    "            torch.tensor(param, dtype=torch.get_default_dtype()), n_comp)\n",
    "        weights = weights/weights.sum()\n",
    "        covariances = torch.matmul(covariances, covariances.transpose(-2, -1))\n",
    "        return weights, means, covariances\n",
    "        \n",
    "    def log_likelihood(self, state):\n",
    "        candidate_gmm = gmm_utils.GMM(*self.transform_param(state.param, state.idx))\n",
    "        return candidate_gmm.density(self.data).log().sum().item()\n",
    "    \n",
    "    def log_prior(self, state):\n",
    "        k = state.idx # number of mixture components\n",
    "        candidate = gmm_utils.GMM(*self.transform_param(state.param, state.idx))\n",
    "        log_p_k = self.k_prior.log_prob(gmm_utils.ensure_torch(k-1)).item()\n",
    "        log_p_w = torch.distributions.Dirichlet(torch.ones([k])).log_prob(candidate.weights.view(-1)).item()\n",
    "        log_p_means = self.means_prior.log_prob(candidate.means).sum().item()\n",
    "        log_p_precision = self.precision_prior.log_prob(1./candidate.covariances).sum().item() # Assuming 1-D data!\n",
    "#         print(log_p_k, log_p_w, log_p_means, log_p_precision)\n",
    "        return log_p_k + log_p_w + log_p_means + log_p_precision"
   ]
  },
  {
   "cell_type": "code",
   "execution_count": 16,
   "metadata": {},
   "outputs": [],
   "source": [
    "model = RJGMModel(obs, k_prior = torch.distributions.Geometric(torch.tensor(.4)),\n",
    "                 precision_prior=torch.distributions.Gamma(concentration=100., rate=1.))"
   ]
  },
  {
   "cell_type": "code",
   "execution_count": 17,
   "metadata": {},
   "outputs": [],
   "source": [
    "initial_n_comp = 1\n",
    "initial_state = rj_proposals.RJState(np.random.rand(initial_n_comp*dim), initial_n_comp)\n",
    "rj_sampler = riemann.Sampler(model, rj_prop, initial_state)\n",
    "rj_sampler.run(1000)"
   ]
  },
  {
   "cell_type": "code",
   "execution_count": 18,
   "metadata": {},
   "outputs": [
    {
     "name": "stderr",
     "output_type": "stream",
     "text": [
      "100%|██████████| 10000/10000 [00:14<00:00, 705.80it/s]\n"
     ]
    }
   ],
   "source": [
    "from tqdm import trange\n",
    "\n",
    "n_samples = 10000\n",
    "samples = [None]*n_samples\n",
    "for i in trange(n_samples):\n",
    "    state, logp = rj_sampler.sample()\n",
    "    samples[i] = state"
   ]
  },
  {
   "cell_type": "code",
   "execution_count": 19,
   "metadata": {},
   "outputs": [
    {
     "data": {
      "text/plain": [
       "<matplotlib.legend.Legend at 0x7f95d80e9ad0>"
      ]
     },
     "execution_count": 19,
     "metadata": {},
     "output_type": "execute_result"
    },
    {
     "data": {
      "image/png": "[encoded data removed]",
      "text/plain": [
       "<Figure size 432x288 with 1 Axes>"
      ]
     },
     "metadata": {
      "needs_background": "light"
     },
     "output_type": "display_data"
    }
   ],
   "source": [
    "pdf_query_x = gmm.density(gmm_utils.ensure_torch(query_x)).numpy()\n",
    "candidate_gmm = gmm_utils.GMM(*model.transform_param(state.param, state.idx))\n",
    "candidate_query_x = candidate_gmm.density(gmm_utils.ensure_torch(query_x)).numpy()\n",
    "\n",
    "plt.plot(query_x, pdf_query_x, 'k--', label=\"true density\")\n",
    "plt.plot(query_x, candidate_query_x,'b-', label=\"candidate model\")\n",
    "plt.plot(obs.numpy(), np.zeros(len(obs)), 'k+', ms=10, label=\"observations\")\n",
    "plt.hist(obs.numpy(), density=True, histtype='step', label=\"empirical density\")\n",
    "plt.legend()"
   ]
  },
  {
   "cell_type": "code",
   "execution_count": 20,
   "metadata": {},
   "outputs": [
    {
     "data": {
      "text/plain": [
       "<StemContainer object of 3 artists>"
      ]
     },
     "execution_count": 20,
     "metadata": {},
     "output_type": "execute_result"
    },
    {
     "data": {
      "image/png": "[encoded data removed]",
      "text/plain": [
       "<Figure size 432x288 with 1 Axes>"
      ]
     },
     "metadata": {
      "needs_background": "light"
     },
     "output_type": "display_data"
    }
   ],
   "source": [
    "k_samples = [s.idx for s in samples]\n",
    "counts,_ = np.histogram(k_samples, range=[1,max_n_comp], bins=max_n_comp)\n",
    "\n",
    "plt.stem(np.arange(1,max_n_comp+1), counts/counts.sum(), use_line_collection=True)"
   ]
  },
  {
   "cell_type": "code",
   "execution_count": null,
   "metadata": {},
   "outputs": [],
   "source": []
  }
 ],
 "metadata": {
  "kernelspec": {
   "display_name": "Python 3",
   "language": "python",
   "name": "python3"
  },
  "language_info": {
   "codemirror_mode": {
    "name": "ipython",
    "version": 3
   },
   "file_extension": ".py",
   "mimetype": "text/x-python",
   "name": "python",
   "nbconvert_exporter": "python",
   "pygments_lexer": "ipython3",
   "version": "3.7.4"
  }
 },
 "nbformat": 4,
 "nbformat_minor": 2
}
